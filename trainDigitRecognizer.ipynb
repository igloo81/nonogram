{
 "cells": [
  {
   "cell_type": "code",
   "execution_count": 1,
   "metadata": {},
   "outputs": [
    {
     "name": "stdout",
     "output_type": "stream",
     "text": [
      "Epoch 1/8\n",
      "1016/1016 [==============================] - 54s 52ms/step - loss: 0.5848 - accuracy: 0.8396 - val_loss: 0.1517 - val_accuracy: 0.9691\n",
      "Epoch 2/8\n",
      "1016/1016 [==============================] - 48s 47ms/step - loss: 0.1717 - accuracy: 0.9537 - val_loss: 0.0798 - val_accuracy: 0.9836\n",
      "Epoch 3/8\n",
      "1016/1016 [==============================] - 51s 50ms/step - loss: 0.1229 - accuracy: 0.9655 - val_loss: 0.0805 - val_accuracy: 0.9877\n",
      "Epoch 4/8\n",
      "1016/1016 [==============================] - 52s 51ms/step - loss: 0.1165 - accuracy: 0.9701 - val_loss: 0.0430 - val_accuracy: 0.9887\n",
      "Epoch 5/8\n",
      "1016/1016 [==============================] - 50s 50ms/step - loss: 0.0846 - accuracy: 0.9769 - val_loss: 0.0450 - val_accuracy: 0.9879\n",
      "Epoch 6/8\n",
      "1016/1016 [==============================] - 50s 49ms/step - loss: 0.0779 - accuracy: 0.9778 - val_loss: 0.0509 - val_accuracy: 0.9873\n",
      "Epoch 7/8\n",
      "1016/1016 [==============================] - 50s 50ms/step - loss: 0.0818 - accuracy: 0.9786 - val_loss: 0.0251 - val_accuracy: 0.9923\n",
      "Epoch 8/8\n",
      "1016/1016 [==============================] - 50s 49ms/step - loss: 0.0624 - accuracy: 0.9828 - val_loss: 0.0239 - val_accuracy: 0.9927\n"
     ]
    }
   ],
   "source": [
    "%load_ext autoreload\n",
    "%autoreload 2\n",
    "dataDir = \"E:/Work/NonoGram/\"\n",
    "\n",
    "import keras\n",
    "import keras.utils\n",
    "import tensorflow as tf\n",
    "import numpy as np\n",
    "import createDigitImage\n",
    "\n",
    "# Load the MNIST dataset from OpenCV (this loads pre-trained data)\n",
    "# This is a convenient way to quickly get started with digit recognition.\n",
    "def createDigitRecognizer():\n",
    "    # Load the MNIST dataset\n",
    "    (train_images, train_labels), (test_images, test_labels) = tf.keras.datasets.mnist.load_data()\n",
    "    \n",
    "    # Preprocess the images\n",
    "    train_images = train_images.astype('float32') / 255\n",
    "    test_images = test_images.astype('float32') / 255\n",
    "\n",
    "    extra_train_data = [createDigitImage.create_random_digit_image() for i in range(0, 5000)]\n",
    "    extra_test_data = [createDigitImage.create_random_digit_image() for i in range(0, 1000)]\n",
    "    train_images = np.concatenate([train_images, [image for image, label in extra_train_data]], axis=0)\n",
    "    train_labels = np.concatenate([train_labels, [label for image, label in extra_train_data]], axis=0)\n",
    "    test_images = np.concatenate([test_images, [image for image, label in extra_train_data]], axis=0)\n",
    "    test_labels = np.concatenate([test_labels, [label for image, label in extra_train_data]], axis=0)\n",
    "\n",
    "    # Reshape the images and add a channel dimension\n",
    "    train_images = np.expand_dims(train_images, axis=-1)\n",
    "    test_images = np.expand_dims(test_images, axis=-1)\n",
    "\n",
    "    # One-hot encode the labels\n",
    "    train_labels = tf.keras.utils.to_categorical(train_labels)\n",
    "    test_labels = tf.keras.utils.to_categorical(test_labels)\n",
    "    \n",
    "    # Build the CNN model\n",
    "    model = keras.Sequential([\n",
    "        keras.layers.Conv2D(32, (3, 3), activation='relu', input_shape=(28, 28, 1)),\n",
    "        keras.layers.MaxPooling2D((2, 2)),\n",
    "        keras.layers.Conv2D(64, (3, 3), activation='relu'),\n",
    "        keras.layers.MaxPooling2D((2, 2)),\n",
    "        keras.layers.Flatten(),\n",
    "        keras.layers.Dropout(0.5),\n",
    "        keras.layers.Dense(64, activation='relu'),\n",
    "        keras.layers.Dense(10, activation='softmax')\n",
    "    ])\n",
    "    \n",
    "    # Compile the model\n",
    "    model.compile(optimizer='adam',\n",
    "              loss='categorical_crossentropy',\n",
    "              metrics=['accuracy'])\n",
    "    \n",
    "    # Train the model\n",
    "    model.fit(train_images, train_labels, epochs=8, batch_size=64, validation_data=(test_images, test_labels))\n",
    "    return model\n",
    "\n",
    "import os\n",
    "\n",
    "import keras.saving\n",
    "digitRecognizerModelFileName = f\"{dataDir}/digitRecognizerMnist.keras\"\n",
    "digitRecognizer = createDigitRecognizer()\n",
    "digitRecognizer.save(f\"{dataDir}/digitRecognizerMnist.keras\")"
   ]
  },
  {
   "cell_type": "code",
   "execution_count": null,
   "metadata": {},
   "outputs": [],
   "source": []
  }
 ],
 "metadata": {
  "kernelspec": {
   "display_name": "openCV",
   "language": "python",
   "name": "python3"
  },
  "language_info": {
   "codemirror_mode": {
    "name": "ipython",
    "version": 3
   },
   "file_extension": ".py",
   "mimetype": "text/x-python",
   "name": "python",
   "nbconvert_exporter": "python",
   "pygments_lexer": "ipython3",
   "version": "3.10.13"
  }
 },
 "nbformat": 4,
 "nbformat_minor": 2
}
