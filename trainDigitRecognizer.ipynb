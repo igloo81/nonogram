{
 "cells": [
  {
   "cell_type": "code",
   "execution_count": 9,
   "metadata": {},
   "outputs": [
    {
     "name": "stdout",
     "output_type": "stream",
     "text": [
      "Epoch 1/8\n",
      "1016/1016 [==============================] - 72s 70ms/step - loss: 0.5461 - accuracy: 0.8454 - val_loss: 0.0760 - val_accuracy: 0.9775\n",
      "Epoch 2/8\n",
      "1016/1016 [==============================] - 70s 69ms/step - loss: 0.1466 - accuracy: 0.9592 - val_loss: 0.0564 - val_accuracy: 0.9849\n",
      "Epoch 3/8\n",
      "1016/1016 [==============================] - 71s 69ms/step - loss: 0.1122 - accuracy: 0.9696 - val_loss: 0.0506 - val_accuracy: 0.9870\n",
      "Epoch 4/8\n",
      "1016/1016 [==============================] - 69s 68ms/step - loss: 0.0951 - accuracy: 0.9737 - val_loss: 0.0353 - val_accuracy: 0.9887\n",
      "Epoch 5/8\n",
      "1016/1016 [==============================] - 69s 68ms/step - loss: 0.0686 - accuracy: 0.9793 - val_loss: 0.0275 - val_accuracy: 0.9903\n",
      "Epoch 6/8\n",
      "1016/1016 [==============================] - 69s 68ms/step - loss: 0.0823 - accuracy: 0.9791 - val_loss: 0.0256 - val_accuracy: 0.9919\n",
      "Epoch 7/8\n",
      "1016/1016 [==============================] - 70s 69ms/step - loss: 0.0782 - accuracy: 0.9810 - val_loss: 0.1564 - val_accuracy: 0.9872\n",
      "Epoch 8/8\n",
      "1016/1016 [==============================] - 68s 67ms/step - loss: 0.0689 - accuracy: 0.9831 - val_loss: 0.0292 - val_accuracy: 0.9916\n"
     ]
    }
   ],
   "source": [
    "dataDir = \"E:/Work/NonoGram/\"\n",
    "\n",
    "import keras\n",
    "import keras.utils\n",
    "import tensorflow as tf\n",
    "import numpy as np\n",
    "import createDigitImage\n",
    "\n",
    "# Load the MNIST dataset from OpenCV (this loads pre-trained data)\n",
    "# This is a convenient way to quickly get started with digit recognition.\n",
    "def createDigitRecognizer():\n",
    "    # Load the MNIST dataset\n",
    "    (train_images, train_labels), (test_images, test_labels) = tf.keras.datasets.mnist.load_data()\n",
    "    \n",
    "    # Preprocess the images\n",
    "    train_images = train_images.astype('float32') / 255\n",
    "    test_images = test_images.astype('float32') / 255\n",
    "\n",
    "    extra_train_data = [createDigitImage.create_random_digit_image() for i in range(0, 5000)]\n",
    "    extra_test_data = [createDigitImage.create_random_digit_image() for i in range(0, 1000)]\n",
    "    train_images = np.concatenate([train_images, [image for image, label in extra_train_data]], axis=0)\n",
    "    train_labels = np.concatenate([train_labels, [label for image, label in extra_train_data]], axis=0)\n",
    "    test_images = np.concatenate([test_images, [image for image, label in extra_train_data]], axis=0)\n",
    "    test_labels = np.concatenate([test_labels, [label for image, label in extra_train_data]], axis=0)\n",
    "\n",
    "    # Reshape the images and add a channel dimension\n",
    "    train_images = np.expand_dims(train_images, axis=-1)\n",
    "    test_images = np.expand_dims(test_images, axis=-1)\n",
    "\n",
    "    # One-hot encode the labels\n",
    "    train_labels = tf.keras.utils.to_categorical(train_labels)\n",
    "    test_labels = tf.keras.utils.to_categorical(test_labels)\n",
    "    \n",
    "    # Build the CNN model\n",
    "    model = keras.Sequential([\n",
    "        keras.layers.Conv2D(32, (3, 3), activation='relu', input_shape=(28, 28, 1)),\n",
    "        keras.layers.MaxPooling2D((2, 2)),\n",
    "        keras.layers.Conv2D(64, (3, 3), activation='relu'),\n",
    "        keras.layers.MaxPooling2D((2, 2)),\n",
    "        keras.layers.Flatten(),\n",
    "        keras.layers.Dropout(0.5),\n",
    "        keras.layers.Dense(64, activation='relu'),\n",
    "        keras.layers.Dense(10, activation='softmax')\n",
    "    ])\n",
    "    \n",
    "    # Compile the model\n",
    "    model.compile(optimizer='adam',\n",
    "              loss='categorical_crossentropy',\n",
    "              metrics=['accuracy'])\n",
    "    \n",
    "    # Train the model\n",
    "    model.fit(train_images, train_labels, epochs=8, batch_size=64, validation_data=(test_images, test_labels))\n",
    "    return model\n",
    "\n",
    "import os\n",
    "\n",
    "import keras.saving\n",
    "digitRecognizerModelFileName = f\"{dataDir}/digitRecognizerMnist.keras\"\n",
    "digitRecognizer = createDigitRecognizer()\n",
    "digitRecognizer.save(f\"{dataDir}/digitRecognizerMnist.keras\")"
   ]
  }
 ],
 "metadata": {
  "kernelspec": {
   "display_name": "openCV",
   "language": "python",
   "name": "python3"
  },
  "language_info": {
   "codemirror_mode": {
    "name": "ipython",
    "version": 3
   },
   "file_extension": ".py",
   "mimetype": "text/x-python",
   "name": "python",
   "nbconvert_exporter": "python",
   "pygments_lexer": "ipython3",
   "version": "3.10.13"
  }
 },
 "nbformat": 4,
 "nbformat_minor": 2
}
