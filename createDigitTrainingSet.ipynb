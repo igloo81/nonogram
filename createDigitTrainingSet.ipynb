{
 "cells": [
  {
   "cell_type": "code",
   "execution_count": 3,
   "metadata": {},
   "outputs": [
    {
     "name": "stdout",
     "output_type": "stream",
     "text": [
      "The autoreload extension is already loaded. To reload it, use:\n",
      "  %reload_ext autoreload\n",
      "Test set of 100 digits generated in the 'digits_test_set' directory.\n"
     ]
    }
   ],
   "source": [
    "%load_ext autoreload\n",
    "%autoreload 2\n",
    "\n",
    "import cv2\n",
    "import os\n",
    "import createDigitImage\n",
    "\n",
    "# Create a directory to store the images if it doesn't exist\n",
    "output_dir = \"digits_test_set\"\n",
    "if not os.path.exists(output_dir):\n",
    "    os.makedirs(output_dir)\n",
    "\n",
    "\n",
    "# Generate a test set of 100 images with random digits\n",
    "num_images = 100\n",
    "\n",
    "for i in range(num_images):\n",
    "    (digit_image, digit) = createDigitImage.create_random_digit_image()\n",
    "    cv2.imwrite(os.path.join(output_dir, f\"digit_{i}_{digit}.png\"), digit_image)\n",
    "\n",
    "print(f\"Test set of {num_images} digits generated in the '{output_dir}' directory.\")"
   ]
  },
  {
   "cell_type": "code",
   "execution_count": null,
   "metadata": {},
   "outputs": [],
   "source": []
  },
  {
   "cell_type": "code",
   "execution_count": null,
   "metadata": {},
   "outputs": [],
   "source": []
  }
 ],
 "metadata": {
  "kernelspec": {
   "display_name": "openCV",
   "language": "python",
   "name": "python3"
  },
  "language_info": {
   "codemirror_mode": {
    "name": "ipython",
    "version": 3
   },
   "file_extension": ".py",
   "mimetype": "text/x-python",
   "name": "python",
   "nbconvert_exporter": "python",
   "pygments_lexer": "ipython3",
   "version": "3.10.13"
  }
 },
 "nbformat": 4,
 "nbformat_minor": 2
}
