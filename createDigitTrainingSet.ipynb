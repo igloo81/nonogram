{
 "cells": [
  {
   "cell_type": "code",
   "execution_count": 2,
   "metadata": {},
   "outputs": [
    {
     "name": "stdout",
     "output_type": "stream",
     "text": [
      "Test set of 10 digits generated in the 'digits_test_set' directory.\n"
     ]
    }
   ],
   "source": [
    "%load_ext autoreload\n",
    "%autoreload 2\n",
    "\n",
    "import cv2\n",
    "import os\n",
    "import createDigitImage\n",
    "\n",
    "# Create a directory to store the images if it doesn't exist\n",
    "output_dir = \"digits_test_set\"\n",
    "if not os.path.exists(output_dir):\n",
    "    os.makedirs(output_dir)\n",
    "\n",
    "\n",
    "# Generate a test set of 100 images with random digits\n",
    "num_images = 10\n",
    "\n",
    "i = 0\n",
    "for font_file in createDigitImage.font_files:\n",
    "    font_name = os.path.splitext(os.path.basename(font_file))[0]\n",
    "    i += 1\n",
    "    (digit_image, digit) = createDigitImage.create_random_digit_image(font_file[2:])\n",
    "    cv2.imwrite(os.path.join(output_dir, f\"font_{font_name}.png\"), digit_image*255)\n",
    "\n",
    "for i in range(num_images):\n",
    "    (digit_image, digit) = createDigitImage.create_random_digit_image_CV2()\n",
    "    cv2.imwrite(os.path.join(output_dir, f\"digit_{i}_{digit}.png\"), digit_image*255)\n",
    "\n",
    "print(f\"Test set of {num_images} digits generated in the '{output_dir}' directory.\")"
   ]
  },
  {
   "cell_type": "code",
   "execution_count": null,
   "metadata": {},
   "outputs": [],
   "source": []
  },
  {
   "cell_type": "code",
   "execution_count": null,
   "metadata": {},
   "outputs": [],
   "source": []
  },
  {
   "cell_type": "code",
   "execution_count": 1,
   "metadata": {},
   "outputs": [
    {
     "data": {
      "text/plain": [
       "<matplotlib.image.AxesImage at 0x1e93afab5f8>"
      ]
     },
     "execution_count": 1,
     "metadata": {},
     "output_type": "execute_result"
    },
    {
     "data": {
      "image/png": "[encoded data removed]",
      "text/plain": [
       "<Figure size 432x288 with 1 Axes>"
      ]
     },
     "metadata": {
      "needs_background": "light"
     },
     "output_type": "display_data"
    }
   ],
   "source": [
    "import numpy as np\n",
    "import matplotlib.pyplot as pyplot\n",
    "from PIL import Image, ImageDraw, ImageFont\n",
    "import cv2\n",
    "\n",
    "# Create a PIL image\n",
    "img_pil = Image.new('RGB', (300, 100), color=(255, 255, 255))\n",
    "\n",
    "# Set up drawing context\n",
    "draw = ImageDraw.Draw(img_pil)\n",
    "\n",
    "# Load a custom font (change to your font path)\n",
    "font = ImageFont.truetype(\"Fonts/Oswald/Oswald-Bold.ttf\", 40)\n",
    "\n",
    "# Draw text on the PIL image\n",
    "text = \"Hello, World!\"\n",
    "draw.text((50, 25), text, font=font, fill=(0, 0, 0))\n",
    "\n",
    "# Convert PIL image to NumPy array (OpenCV format)\n",
    "img_cv = np.array(img_pil)\n",
    "\n",
    "# Convert RGB to BGR (OpenCV uses BGR format)\n",
    "img_cv = cv2.cvtColor(img_cv, cv2.COLOR_RGB2BGR)\n",
    "\n",
    "# Display the image using OpenCV\n",
    "#cv2.imshow(\"Image\", img_cv)\n",
    "#img_pil.show()\n",
    "pyplot.imshow(img_cv)\n"
   ]
  }
 ],
 "metadata": {
  "kernelspec": {
   "display_name": "tensorflowGPU",
   "language": "python",
   "name": "python3"
  },
  "language_info": {
   "codemirror_mode": {
    "name": "ipython",
    "version": 3
   },
   "file_extension": ".py",
   "mimetype": "text/x-python",
   "name": "python",
   "nbconvert_exporter": "python",
   "pygments_lexer": "ipython3",
   "version": "3.6.13"
  }
 },
 "nbformat": 4,
 "nbformat_minor": 2
}
