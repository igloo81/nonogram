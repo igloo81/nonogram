{
 "cells": [
  {
   "cell_type": "code",
   "execution_count": null,
   "metadata": {},
   "outputs": [
    {
     "name": "stdout",
     "output_type": "stream",
     "text": [
      "Test set of 100 digits generated in the 'digits_test_set' directory.\n"
     ]
    }
   ],
   "source": [
    "import cv2\n",
    "import numpy as np\n",
    "import random\n",
    "import os\n",
    "import random\n",
    "\n",
    "# Create a directory to store the images if it doesn't exist\n",
    "output_dir = \"digits_test_set\"\n",
    "if not os.path.exists(output_dir):\n",
    "    os.makedirs(output_dir)\n",
    "\n",
    "# Parameters for drawing the digits\n",
    "image_size = (28, 28)  # Image size (height, width)\n",
    "fonts = [\n",
    "    cv2.FONT_HERSHEY_SIMPLEX,\n",
    "    cv2.FONT_HERSHEY_PLAIN,\n",
    "    cv2.FONT_HERSHEY_DUPLEX,\n",
    "    cv2.FONT_HERSHEY_COMPLEX,\n",
    "    cv2.FONT_HERSHEY_TRIPLEX,\n",
    "    cv2.FONT_HERSHEY_COMPLEX_SMALL,\n",
    "    cv2.FONT_HERSHEY_SCRIPT_SIMPLEX,\n",
    "    cv2.FONT_HERSHEY_SCRIPT_COMPLEX\n",
    "]\n",
    "font = cv2.FONT_HERSHEY_SIMPLEX\n",
    "font_scale = (1, 10)\n",
    "angle = (-90, 90)\n",
    "thickness = 2\n",
    "color = (255, 255, 255)  # White color for the digits\n",
    "shift = 2\n",
    "\n",
    "# Generate a test set of 100 images with random digits\n",
    "num_images = 100\n",
    "\n",
    "for i in range(num_images):\n",
    "    digit = random.randint(0, 9)\n",
    "    font = random.choice(fonts)\n",
    "    font_scale_digit = random.randint(font_scale[0], font_scale[1])\n",
    "    text_size = cv2.getTextSize(str(digit), font, font_scale_digit, thickness)[0]\n",
    "    image_size_source = (max(text_size)*5//4, max(text_size)*5//4)\n",
    "    text_x = (image_size_source[1] - text_size[0] - random.randint(-shift, shift)) // 2\n",
    "    text_y = (image_size_source[0] + text_size[1] - random.randint(-shift, shift)) // 2\n",
    "    image = np.zeros(image_size_source, dtype=np.uint8)\n",
    "    cv2.putText(image, str(digit), (text_x, text_y), font, font_scale_digit, color, thickness)\n",
    "\n",
    "    rotation_matrix = cv2.getRotationMatrix2D((image_size_source[0]/2, image_size_source[1]/2), random.randint(angle[0], angle[1]), 1)\n",
    "    rotated_image = cv2.warpAffine(image, rotation_matrix, (image.shape[1], image.shape[0]))\n",
    "    digit_image_resized = cv2.resize(rotated_image, (28, 28), interpolation=cv2.INTER_AREA)\n",
    "    digit_image = cv2.GaussianBlur(digit_image_resized, (5, 5), 0)\n",
    "    digit_image = cv2.normalize(digit_image, None, 0, 255, cv2.NORM_MINMAX)\n",
    "\n",
    "\n",
    "    # Save the image to the output directory\n",
    "    cv2.imwrite(os.path.join(output_dir, f\"digit_{i}_{digit}.png\"), digit_image)\n",
    "\n",
    "print(f\"Test set of {num_images} digits generated in the '{output_dir}' directory.\")"
   ]
  },
  {
   "cell_type": "code",
   "execution_count": null,
   "metadata": {},
   "outputs": [],
   "source": []
  },
  {
   "cell_type": "code",
   "execution_count": null,
   "metadata": {},
   "outputs": [],
   "source": []
  }
 ],
 "metadata": {
  "kernelspec": {
   "display_name": "Python 3",
   "language": "python",
   "name": "python3"
  },
  "language_info": {
   "codemirror_mode": {
    "name": "ipython",
    "version": 3
   },
   "file_extension": ".py",
   "mimetype": "text/x-python",
   "name": "python",
   "nbconvert_exporter": "python",
   "pygments_lexer": "ipython3",
   "version": "3.10.16"
  }
 },
 "nbformat": 4,
 "nbformat_minor": 2
}
